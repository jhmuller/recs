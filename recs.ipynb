{
 "cells": [
  {
   "cell_type": "markdown",
   "id": "efc9817a",
   "metadata": {},
   "source": [
    "# What\n",
    "Embed viewers and movies into a high dimensional space.\n",
    "\n",
    "# Why \n",
    "Embeddings of movies and viewers can be used to make recommendations\n",
    "in that viewers should like movies that are \"close\" to them in the \n",
    "  vector space.\n",
    "\n",
    "Embeddings can even be used if there are no viewers.\n",
    "For example, if we only have data on products, if the data is coview data\n",
    "then we can use that to embed the products.\n",
    "Then products close to each other should be reasonable substitutes.  \n",
    "\n",
    "# Background\n",
    "\n",
    "Here I use a move rating data set from Kaggle.\n",
    "In this notebook I will derive embeddings for users and movies\n",
    "and these will be the ingredients of a matrix factorization\n",
    "of the full rating matrix.\n",
    "\n",
    "We will train a simple Neural Net using Pytorch.\n",
    "\n",
    "Evaluation is done using recommendations not seen in training, that is, \n",
    "we compare the actual recommendation to the model predicted one."
   ]
  },
  {
   "cell_type": "code",
   "execution_count": 48,
   "id": "b2313637",
   "metadata": {},
   "outputs": [],
   "source": [
    "import os\n",
    "import datetime\n",
    "import pandas as pd\n",
    "import numpy as np\n",
    "import torch.cuda\n",
    "import torch\n",
    "import torch.nn as nn\n",
    "import torch.nn.functional as F\n",
    "from torch.utils.data import Dataset, DataLoader"
   ]
  },
  {
   "cell_type": "markdown",
   "id": "002f08c1",
   "metadata": {},
   "source": [
    "### Use the GPU, i.e. cuda, if available"
   ]
  },
  {
   "cell_type": "code",
   "execution_count": 49,
   "id": "9c1a4b36",
   "metadata": {},
   "outputs": [
    {
     "name": "stdout",
     "output_type": "stream",
     "text": [
      "Device in use: cuda\n"
     ]
    }
   ],
   "source": [
    "device = torch.device('cuda' if torch.cuda.is_available() else 'cpu')\n",
    "print(\"Device in use:\", device)"
   ]
  },
  {
   "cell_type": "code",
   "execution_count": 50,
   "id": "e216cfa2",
   "metadata": {},
   "outputs": [],
   "source": [
    "## Read in the data and show shape and head"
   ]
  },
  {
   "cell_type": "code",
   "execution_count": 51,
   "id": "6996373a",
   "metadata": {},
   "outputs": [
    {
     "name": "stdout",
     "output_type": "stream",
     "text": [
      "(26024289, 4)\n"
     ]
    },
    {
     "data": {
      "text/html": [
       "<div>\n",
       "<style scoped>\n",
       "    .dataframe tbody tr th:only-of-type {\n",
       "        vertical-align: middle;\n",
       "    }\n",
       "\n",
       "    .dataframe tbody tr th {\n",
       "        vertical-align: top;\n",
       "    }\n",
       "\n",
       "    .dataframe thead th {\n",
       "        text-align: right;\n",
       "    }\n",
       "</style>\n",
       "<table border=\"1\" class=\"dataframe\">\n",
       "  <thead>\n",
       "    <tr style=\"text-align: right;\">\n",
       "      <th></th>\n",
       "      <th>userId</th>\n",
       "      <th>movieId</th>\n",
       "      <th>rating</th>\n",
       "      <th>timestamp</th>\n",
       "    </tr>\n",
       "  </thead>\n",
       "  <tbody>\n",
       "    <tr>\n",
       "      <th>0</th>\n",
       "      <td>1</td>\n",
       "      <td>110</td>\n",
       "      <td>1.0</td>\n",
       "      <td>1425941529</td>\n",
       "    </tr>\n",
       "    <tr>\n",
       "      <th>1</th>\n",
       "      <td>1</td>\n",
       "      <td>147</td>\n",
       "      <td>4.5</td>\n",
       "      <td>1425942435</td>\n",
       "    </tr>\n",
       "  </tbody>\n",
       "</table>\n",
       "</div>"
      ],
      "text/plain": [
       "   userId  movieId  rating   timestamp\n",
       "0       1      110     1.0  1425941529\n",
       "1       1      147     4.5  1425942435"
      ]
     },
     "execution_count": 51,
     "metadata": {},
     "output_type": "execute_result"
    }
   ],
   "source": [
    "origdf = pd.read_csv(\"ratings.csv\")\n",
    "print(origdf.shape)\n",
    "origdf.head(2)"
   ]
  },
  {
   "cell_type": "code",
   "execution_count": 52,
   "id": "c33f3eb6",
   "metadata": {},
   "outputs": [
    {
     "name": "stdout",
     "output_type": "stream",
     "text": [
      "max userId 270896 num users 270896\n",
      "max movieId 176275 num movies 45115\n"
     ]
    }
   ],
   "source": [
    "print(f\"max userId {origdf.userId.max()} num users {origdf.userId.nunique()}\")\n",
    "print(f\"max movieId {origdf.movieId.max()} num movies {origdf.movieId.nunique()}\")"
   ]
  },
  {
   "cell_type": "markdown",
   "id": "e43340bc",
   "metadata": {},
   "source": [
    "# Subsampling\n",
    "The original dataset was too large for my Cuda memory\n",
    "so I will subsample to a much saller set."
   ]
  },
  {
   "cell_type": "code",
   "execution_count": 53,
   "id": "398b54ba",
   "metadata": {},
   "outputs": [
    {
     "name": "stdout",
     "output_type": "stream",
     "text": [
      "max userId 9999 num users 9930\n",
      "max movieId 4999 num movies 4783\n",
      "(676352, 4)\n"
     ]
    }
   ],
   "source": [
    "subsample = True\n",
    "df = origdf.copy()\n",
    "if subsample:\n",
    "    max_user =  10000\n",
    "    max_movie = 5000\n",
    "    df = df.loc[df.movieId < max_movie]\n",
    "    df = df.loc[df.userId < max_user]\n",
    "    print(f\"max userId {df.userId.max()} num users {df.userId.nunique()}\")\n",
    "    print(f\"max movieId {df.movieId.max()} num movies {df.movieId.nunique()}\")    \n",
    "    print(df.shape)    "
   ]
  },
  {
   "cell_type": "markdown",
   "id": "b978048f",
   "metadata": {},
   "source": [
    "## Partition the dataset\n",
    "Partition into train, val and test sets.\n",
    "We can use val to tune the hyper parameters.\n",
    "\n",
    "We could use the sklearn function but I find this just as easy\n",
    "and I like keeping things as dataframes."
   ]
  },
  {
   "cell_type": "code",
   "execution_count": 54,
   "id": "f1aac548",
   "metadata": {},
   "outputs": [
    {
     "name": "stdout",
     "output_type": "stream",
     "text": [
      "train (473447, 4)  valid: (101452, 4), test: (101453, 4), \n"
     ]
    }
   ],
   "source": [
    "def partition(df, pct=0.1):\n",
    "    size = int(np.floor(df.shape[0])*pct)\n",
    "    idx = list(np.random.choice(df.index, size, replace=False))\n",
    "    subset = df.filter(items=idx, axis=0)\n",
    "    rest = df.drop(index = idx)\n",
    "    return subset, rest\n",
    "\n",
    "otherdf, traindf = partition(df, 0.3)\n",
    "valdf, testdf = partition(otherdf, .5)\n",
    "print(f\"train {traindf.shape}  valid: {valdf.shape}, test: {testdf.shape}, \")\n",
    "traindf.reset_index(inplace=True)\n",
    "valdf.reset_index(inplace=True)\n",
    "testdf.reset_index(inplace=True)"
   ]
  },
  {
   "cell_type": "markdown",
   "id": "c8e14b13",
   "metadata": {},
   "source": [
    "## the Model\n",
    "The model is fairly simple: 2 embedding layers, \n",
    "    one each for users and movies.\n",
    "    \n",
    "At the end of \"forward\" we simply do the dot product of users and movie embeddings\n",
    "which gives us the similarity or how much the model says a user likes a movie.\n",
    "We can then compare to the actual ratings, get errors, et cetera."
   ]
  },
  {
   "cell_type": "code",
   "execution_count": 55,
   "id": "d4e8e124",
   "metadata": {},
   "outputs": [],
   "source": [
    "class MF(nn.Module):\n",
    "    def __init__(self, n_users, n_movies, emb_size=100):\n",
    "        super(MF, self).__init__()\n",
    "        self.n_users = n_users\n",
    "        self.n_movies = n_movies\n",
    "        self.user_emb = nn.Embedding(n_users, emb_size)\n",
    "        self.movie_emb = nn.Embedding(n_movies, emb_size)\n",
    "        \n",
    "        # initializing the matrices with a positive number \n",
    "        # supposed to help generally will yield better results\n",
    "        self.user_emb.weight.data.uniform_(0, 0.5)\n",
    "        self.movie_emb.weight.data.uniform_(0, 0.5)\n",
    "    \n",
    "    def forward(self, users, movies):\n",
    "        m = self.movie_emb(movies)\n",
    "        u = self.user_emb(users)\n",
    "        return (u * m).sum(1)  # taking the dot product"
   ]
  },
  {
   "cell_type": "markdown",
   "id": "a3f59253",
   "metadata": {},
   "source": [
    "## Dataset and dataloader\n",
    "I want to use mini-batch training so we need a dataset\n",
    "and a dataloader.\n",
    "\n",
    "I adapted some code for converting a pandas dataframe into a dataloader"
   ]
  },
  {
   "cell_type": "code",
   "execution_count": 56,
   "id": "1a3e05a3",
   "metadata": {},
   "outputs": [
    {
     "name": "stdout",
     "output_type": "stream",
     "text": [
      " len 473447\n",
      " len 101452\n",
      " len 101453\n"
     ]
    }
   ],
   "source": [
    "class CustomDataset(Dataset):\n",
    "    def __init__(self, dataframe):\n",
    "        self.dataframe = dataframe\n",
    "        print(f\" len {dataframe.shape[0]}\")\n",
    "\n",
    "    def __getitem__(self, index):\n",
    "        userid = self.dataframe.userId[index]\n",
    "        movieid = self.dataframe.movieId[index]\n",
    "        rating = np.float32(self.dataframe.rating[index])\n",
    "        return userid, movieid, rating\n",
    "\n",
    "    def __len__(self):\n",
    "        length = self.dataframe.shape[0]\n",
    "        return length\n",
    "                              \n",
    "train_dataset = CustomDataset(dataframe=traindf)\n",
    "train_dataloader = DataLoader(train_dataset, batch_size=64)\n",
    "\n",
    "val_dataset = CustomDataset(dataframe=valdf)\n",
    "val_dataloader = DataLoader(val_dataset, batch_size=64) \n",
    "\n",
    "test_dataset = CustomDataset(dataframe=testdf)\n",
    "test_dataloader = DataLoader(test_dataset, batch_size=64) \n"
   ]
  },
  {
   "cell_type": "markdown",
   "id": "f2a1db27",
   "metadata": {},
   "source": [
    "### Define the train loop"
   ]
  },
  {
   "cell_type": "code",
   "execution_count": null,
   "id": "58c948d2",
   "metadata": {},
   "outputs": [],
   "source": [
    "def instantiate_model(n_users, n_movies, emb_size=64):\n",
    "    n_users = df.userId.max()+1\n",
    "    n_movies = df.movieId.max()+1\n",
    "    model = MF(n_users=n_users, n_movies=n_movies, emb_size=emb_size)\n",
    "    return model\n",
    "\n",
    "loss_fn = F.mse_loss\n",
    "    \n",
    "# for now I am not experimenting with weight decay.  maybe later.\n",
    "def train_model(model, epochs=2, lr=0.01, wd=0.0, use_cuda=False, print_freq=500):\n",
    "\n",
    "    optimizer = torch.optim.Adam(model.parameters(), lr=lr, weight_decay=wd)\n",
    "    if use_cuda:\n",
    "        if torch.cuda.is_available():\n",
    "            model = model.to(device)\n",
    "        else:\n",
    "            print(f\"cuda not available\")\n",
    "\n",
    "    start_dt = datetime.datetime.now()            \n",
    "    #\n",
    "    # train loop\n",
    "    #\n",
    "    model.train()\n",
    "    train_rmse = []    \n",
    "    val_rmse = []      \n",
    "    for ei in range(epochs):\n",
    "        epoch_mse = 0.0\n",
    "        for tbi, data in enumerate(train_dataloader):\n",
    "            users, movies, ratings = data\n",
    "            if use_cuda:\n",
    "                users = users.cuda()\n",
    "                movies = movies.cuda()\n",
    "                ratings = ratings.cuda()                   \n",
    "            y_hat = model(users, movies)\n",
    "            loss = loss_fn(y_hat, ratings)\n",
    "            epoch_mse += loss.item() \n",
    "            optimizer.zero_grad()  # reset gradient\n",
    "            loss.backward()\n",
    "            optimizer.step() \n",
    "        mse = epoch_mse/len(train_dataloader)\n",
    "        rmse = np.sqrt(mse)\n",
    "        train_rmse.append(rmse)\n",
    "\n",
    "    \n",
    "        #    \n",
    "        # eval loop\n",
    "        #\n",
    "        model.eval()        \n",
    "        epoch_mse = 0.0        \n",
    "        for tbi, data in enumerate(val_dataloader):\n",
    "            users, movies, ratings = data\n",
    "            if use_cuda:\n",
    "                users = users.cuda()\n",
    "                movies = movies.cuda()\n",
    "                ratings = ratings.cuda()\n",
    "            y_hat = model(users, movies)\n",
    "            loss = loss_fn(y_hat, ratings)\n",
    "            epoch_mse += loss.item()\n",
    "        mse = epoch_mse/len(val_dataloader)\n",
    "        rmse = np.sqrt(mse)\n",
    "        val_rmse.append(rmse)\n",
    "        \n",
    "    print(f\"\\tdone {epochs} epochs,\")\n",
    "    \n",
    "    \n",
    "    df = pd.DataFrame()\n",
    "    df[\"train\"] = train_rmse\n",
    "    df[\"val\"] = val_rmse\n",
    "    df[\"epoch\"] = range(len(train_rmse))\n",
    "    return df\n"
   ]
  },
  {
   "cell_type": "markdown",
   "id": "f9740776",
   "metadata": {},
   "source": [
    "### Try different hyperparameters\n",
    "Loop over the train loop and try different embedding dimensions and learning rates."
   ]
  },
  {
   "cell_type": "code",
   "execution_count": 58,
   "id": "37883adf",
   "metadata": {},
   "outputs": [
    {
     "name": "stdout",
     "output_type": "stream",
     "text": [
      "emb size 64\n",
      "  learning rate0.005\n",
      "\tdone 10 epochs,\n",
      "  learning rate0.0025\n",
      "\tdone 10 epochs,\n",
      "  learning rate0.001\n",
      "\tdone 10 epochs,\n",
      "emb size 128\n",
      "  learning rate0.005\n",
      "\tdone 10 epochs,\n",
      "  learning rate0.0025\n",
      "\tdone 10 epochs,\n",
      "  learning rate0.001\n",
      "\tdone 10 epochs,\n",
      "emb size 256\n",
      "  learning rate0.005\n",
      "\tdone 10 epochs,\n",
      "  learning rate0.0025\n",
      "\tdone 10 epochs,\n",
      "  learning rate0.001\n",
      "\tdone 10 epochs,\n"
     ]
    }
   ],
   "source": [
    "n_users = df.userId.max()\n",
    "n_movies = df.movieId.max()\n",
    "dflist = []\n",
    "models = {}\n",
    "for epochs in [10]:\n",
    "    for emb_size in [64, 128, 256]:\n",
    "        print(f\"emb size {emb_size}\")\n",
    "        for lr in [0.005, .0025, 0.001]:\n",
    "            print(f\"  learning rate{lr}\")            \n",
    "            model = instantiate_model(n_users=n_users, n_movies=n_movies, emb_size=emb_size)\n",
    "            tdf = train_model(model=model, epochs=epochs, lr=lr, wd=0.0, use_cuda=True, print_freq=5000)\n",
    "            tdf[\"emb_size\"] = emb_size\n",
    "            tdf[\"lr\"] = lr\n",
    "            dflist.append(tdf)\n",
    "            models[emb_size] = model\n",
    "resdf = pd.concat(dflist)"
   ]
  },
  {
   "cell_type": "markdown",
   "id": "1d9ac343",
   "metadata": {},
   "source": [
    "## Plot the errors\n",
    "I'll use Plotnine, an implmentantion of ggplot, to plot the errors for each learning rate and embedding size  \n",
    "for both train and validation sets."
   ]
  },
  {
   "cell_type": "code",
   "execution_count": 59,
   "id": "5ff874aa",
   "metadata": {},
   "outputs": [
    {
     "data": {
      "image/png": "[encoded data removed]",
      "text/plain": [
       "<Figure size 640x480 with 3 Axes>"
      ]
     },
     "metadata": {},
     "output_type": "display_data"
    },
    {
     "data": {
      "text/plain": [
       "<ggplot: (8781101443069)>"
      ]
     },
     "execution_count": 59,
     "metadata": {},
     "output_type": "execute_result"
    }
   ],
   "source": [
    "import plotnine\n",
    "from plotnine import ggplot, geom_point, aes, stat_smooth, facet_wrap, geom_line, labels\n",
    "\n",
    "(ggplot(resdf, aes('epoch', 'train',  color='factor(emb_size)'))\n",
    " + geom_line()\n",
    " + labels.ggtitle(\"Train\")\n",
    " + facet_wrap('~lr'))"
   ]
  },
  {
   "cell_type": "code",
   "execution_count": 60,
   "id": "fd7101bb",
   "metadata": {},
   "outputs": [
    {
     "data": {
      "image/png": "[encoded data removed]",
      "text/plain": [
       "<Figure size 640x480 with 3 Axes>"
      ]
     },
     "metadata": {},
     "output_type": "display_data"
    },
    {
     "data": {
      "text/plain": [
       "<ggplot: (8781101457243)>"
      ]
     },
     "execution_count": 60,
     "metadata": {},
     "output_type": "execute_result"
    }
   ],
   "source": [
    "(ggplot(resdf, aes('epoch', 'val',  color='factor(emb_size)'))\n",
    " + geom_line() \n",
    " + labels.ggtitle(\"Val\")\n",
    " + facet_wrap('~lr'))"
   ]
  },
  {
   "cell_type": "markdown",
   "id": "2b1e54ed",
   "metadata": {},
   "source": [
    "# Summary of training\n",
    "* the smallest learning rate seemed to perform best\n",
    "* the larger embedding sizes probably overfit given the larger learning rates\n",
    "\n",
    "Although they all seemed fine for the smallest learning rate\n",
    "         for the validation set.\n",
    "\n",
    "So to go forward I would use\n",
    "* learning rate = 0.001\n",
    "* embedding size = 64 or 128\n"
   ]
  },
  {
   "cell_type": "code",
   "execution_count": 61,
   "id": "9489c979",
   "metadata": {},
   "outputs": [
    {
     "name": "stdout",
     "output_type": "stream",
     "text": [
      "test err 1.23 for emb_size 64\n"
     ]
    }
   ],
   "source": [
    "loss_fn = F.mse_loss\n",
    "def run_test(use_cuda, emb_size):\n",
    "    model = instantiate_model(n_users=n_users, n_movies=n_movies, emb_size=emb_size)\n",
    "    if use_cuda:\n",
    "        if torch.cuda.is_available():\n",
    "            model = model.to(device)\n",
    "        else:\n",
    "            print(f\"cuda not available\")    \n",
    "    model.eval()        \n",
    "    epoch_mse = 0.0        \n",
    "    for tbi, data in enumerate(test_dataloader):\n",
    "        users, movies, ratings = data\n",
    "        if use_cuda:\n",
    "            users = users.cuda()\n",
    "            movies = movies.cuda()\n",
    "            ratings = ratings.cuda()\n",
    "        y_hat = model(users, movies)\n",
    "        loss = loss_fn(y_hat, ratings)\n",
    "        epoch_mse += loss.item()\n",
    "    mse = epoch_mse/len(test_dataloader)\n",
    "    rmse = np.sqrt(mse)\n",
    "    return (rmse)\n",
    "emb_size = 64\n",
    "test_err = run_test(use_cuda=True, emb_size=emb_size)\n",
    "print(f\"test err {np.round(test_err, 2)} for emb_size {emb_size}\")"
   ]
  },
  {
   "cell_type": "markdown",
   "id": "a445992c",
   "metadata": {},
   "source": [
    "### Error comments\n",
    "So an error of 1.2 is slightly higher than the val error \n",
    "and definitely higher than the train error, both of which are \n",
    "to be expected.\n",
    "\n",
    "But we fixed the model parameters before running the test, \n",
    "so no going back now.\n",
    "\n",
    "Anyway, the range for the recommendations is 0.5 to 5.0, so being off by 1.25 seems pretty good."
   ]
  },
  {
   "cell_type": "markdown",
   "id": "3fb6069d",
   "metadata": {},
   "source": [
    "Note that this is loosly based on some code from   \n",
    "https://betterprogramming.pub/building-a-recommendation-engine-with-pytorch-d64be4856fe7"
   ]
  }
 ],
 "metadata": {
  "kernelspec": {
   "display_name": "recommendations",
   "language": "python",
   "name": "recommendations"
  },
  "language_info": {
   "codemirror_mode": {
    "name": "ipython",
    "version": 3
   },
   "file_extension": ".py",
   "mimetype": "text/x-python",
   "name": "python",
   "nbconvert_exporter": "python",
   "pygments_lexer": "ipython3",
   "version": "3.10.4"
  }
 },
 "nbformat": 4,
 "nbformat_minor": 5
}
